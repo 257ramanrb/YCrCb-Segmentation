{
 "cells": [
  {
   "cell_type": "code",
   "execution_count": 1,
   "metadata": {},
   "outputs": [],
   "source": [
    "######## YCrCb\n",
    "import cv2\n",
    "import numpy as np\n",
    "\n",
    "cap = cv2.VideoCapture(0)\n",
    "top, right, bottom, left = 10, 350, 225, 590\n",
    "while(1):\n",
    "\n",
    "    # Take each frame\n",
    "    _, frame = cap.read()\n",
    "\n",
    "    roi = frame[top:bottom, right:left]\n",
    "    # Convert BGR to HSV\n",
    "    hsv = cv2.cvtColor(roi, cv2.COLOR_BGR2YCR_CB)\n",
    "\n",
    "    # define range of skin color in HSV\n",
    "    lower_skin = np.array([0,138,67])\n",
    "    upper_skin = np.array([255,173,133])\n",
    "    \n",
    "    # Threshold the HSV image to get only blue colors\n",
    "    mask = cv2.inRange(hsv, lower_skin, upper_skin)\n",
    "    \n",
    "\n",
    "    # Bitwise-AND mask and original image\n",
    "    res = cv2.bitwise_and(roi,roi, mask= mask)\n",
    "    \n",
    "    #blur=cv2.GaussianBlur(mask,(7,7),0)\n",
    "    \n",
    "    thresholded = cv2.threshold(mask,\n",
    "                                50,\n",
    "                                255,\n",
    "                                cv2.THRESH_BINARY)[1]\n",
    "    \n",
    "    (_, cnts, _) = cv2.findContours(thresholded.copy(),\n",
    "                                    cv2.RETR_EXTERNAL,\n",
    "                                    cv2.CHAIN_APPROX_SIMPLE)\n",
    "    if(len(cnts)!=0):\n",
    "        segmented = max(cnts, key=cv2.contourArea)\n",
    "        cv2.drawContours(frame, [segmented + (right, top)], -1, (0, 0, 255)) #red line around hand in ROI of video\n",
    "    \n",
    "    cv2.rectangle(frame, (left, top), (right, bottom), (0,255,0), 2)\n",
    "  \n",
    "    \n",
    "    cv2.imshow('frame',frame)\n",
    "    #cv2.imshow('mask',mask)\n",
    "    cv2.imshow('res',res)\n",
    "    \n",
    "    #cv2.imshow('blur',blur)\n",
    "    cv2.imshow('thresholded',thresholded)\n",
    "\n",
    "    k = cv2.waitKey(5) & 0xFF\n",
    "    if k == 27:\n",
    "        break\n",
    "#press ESC to exit\n",
    "cv2.destroyAllWindows()"
   ]
  },
  {
   "cell_type": "code",
   "execution_count": null,
   "metadata": {},
   "outputs": [],
   "source": []
  }
 ],
 "metadata": {
  "kernelspec": {
   "display_name": "Python 3",
   "language": "python",
   "name": "python3"
  },
  "language_info": {
   "codemirror_mode": {
    "name": "ipython",
    "version": 3
   },
   "file_extension": ".py",
   "mimetype": "text/x-python",
   "name": "python",
   "nbconvert_exporter": "python",
   "pygments_lexer": "ipython3",
   "version": "3.6.4"
  }
 },
 "nbformat": 4,
 "nbformat_minor": 2
}
